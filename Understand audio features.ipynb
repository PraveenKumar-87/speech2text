{
 "cells": [
  {
   "cell_type": "markdown",
   "metadata": {},
   "source": [
    "# Understanding audio features\n",
    "## import packages"
   ]
  },
  {
   "cell_type": "code",
   "execution_count": null,
   "metadata": {},
   "outputs": [],
   "source": [
    "import numpy as np\n",
    "import sounddevice as sd\n",
    "from scipy import signal\n",
    "import librosa\n",
    "import librosa.display\n",
    "import sugartensor as tf\n",
    "from model import *\n",
    "import data\n",
    "import matplotlib.pyplot as plt\n",
    "%matplotlib inline"
   ]
  },
  {
   "cell_type": "markdown",
   "metadata": {},
   "source": [
    "## Load/record audio"
   ]
  },
  {
   "cell_type": "code",
   "execution_count": null,
   "metadata": {},
   "outputs": [],
   "source": [
    "duration = 2.0  # seconds\n",
    "fs = 16000 # sampling rate\n",
    "#myrecording = sd.rec(int(duration * fs), samplerate=fs, channels=1, blocking = True)\n",
    "myrecording, _ = librosa.load('sample.wav', mono=True, sr=16000)"
   ]
  },
  {
   "cell_type": "markdown",
   "metadata": {},
   "source": [
    "## Verify the audio"
   ]
  },
  {
   "cell_type": "code",
   "execution_count": null,
   "metadata": {},
   "outputs": [],
   "source": [
    "#sd.play(myrecording[10000:20000], fs)"
   ]
  },
  {
   "cell_type": "markdown",
   "metadata": {},
   "source": [
    "## Remove leading and trailing silence to reduce data size"
   ]
  },
  {
   "cell_type": "code",
   "execution_count": null,
   "metadata": {},
   "outputs": [],
   "source": [
    "fig = plt.figure(figsize=(14, 8))\n",
    "ax1 = fig.add_subplot(211)\n",
    "ax1.set_title('Raw wave of myrecording')\n",
    "ax1.set_ylabel('Amplitude')\n",
    "ax1.plot(myrecording)\n",
    "\n",
    "ax2 = fig.add_subplot(212)\n",
    "ax2.set_title('speech section of myrecording')\n",
    "ax2.set_ylabel('Amplitude')\n",
    "ax2.plot(myrecording[10000:160000])"
   ]
  },
  {
   "cell_type": "markdown",
   "metadata": {},
   "source": [
    "## Create and plot spectrogram"
   ]
  },
  {
   "cell_type": "code",
   "execution_count": null,
   "metadata": {},
   "outputs": [],
   "source": [
    "def log_specgram(audio, sample_rate, window_size=20,\n",
    "                 step_size=10, eps=1e-10):\n",
    "    nperseg = int(round(window_size * sample_rate / 1e3))\n",
    "    noverlap = int(round(step_size * sample_rate / 1e3))\n",
    "    freqs, times, spec = signal.spectrogram(audio,\n",
    "                                    fs=sample_rate,\n",
    "                                    window='hann',\n",
    "                                    nperseg=nperseg,\n",
    "                                    noverlap=noverlap,\n",
    "                                    detrend=False)\n",
    "    return freqs, times, np.log(spec.T.astype(np.float32) + eps)"
   ]
  },
  {
   "cell_type": "code",
   "execution_count": null,
   "metadata": {},
   "outputs": [],
   "source": [
    "freqs, times, spectrogram = log_specgram(myrecording, fs)\n",
    "fig = plt.figure(figsize=(14, 8))\n",
    "ax1 = fig.add_subplot(211)\n",
    "ax1.set_title('Raw wave of myrecording')\n",
    "ax1.set_ylabel('Amplitude')\n",
    "ax1.plot(myrecording)\n",
    "\n",
    "ax2 = fig.add_subplot(212)\n",
    "ax2.imshow(spectrogram.T, aspect='auto', origin='lower', \n",
    "           extent=[times.min(), times.max(), freqs.min(), freqs.max()])\n",
    "#ax2.set_yticks(freqs[::16])\n",
    "#ax2.set_xticks(times[::16])\n",
    "ax2.set_title('Spectrogram of myrecording')\n",
    "ax2.set_ylabel('Freqs in Hz')\n",
    "ax2.set_xlabel('Seconds')"
   ]
  },
  {
   "cell_type": "markdown",
   "metadata": {},
   "source": [
    "## Create and plot MFCC features"
   ]
  },
  {
   "cell_type": "code",
   "execution_count": null,
   "metadata": {
    "scrolled": false
   },
   "outputs": [],
   "source": [
    "# From this tutorial\n",
    "# https://github.com/librosa/librosa/blob/master/examples/LibROSA%20demo.ipynb\n",
    "S = librosa.feature.melspectrogram(myrecording, sr=fs, n_mels=128)\n",
    "\n",
    "# Convert to log scale (dB). We'll use the peak power (max) as reference.\n",
    "log_S = librosa.power_to_db(S, ref=np.max)\n",
    "\n",
    "fig = plt.figure(figsize=(12, 8))\n",
    "ax1 = fig.add_subplot(211)\n",
    "ax1.set_title('Raw wave of myrecording')\n",
    "ax1.set_ylabel('Amplitude')\n",
    "ax1.plot(myrecording)\n",
    "\n",
    "ax2 = fig.add_subplot(212)\n",
    "mappable = librosa.display.specshow(log_S, sr=fs, x_axis='time', y_axis='mel')\n",
    "ax2.set_title('Mel power spectrogram ')\n",
    "\n",
    "cax = plt.axes([0.95, 0.12, 0.03, 0.35])\n",
    "plt.colorbar(format='%+02.0f dB', ax=ax2, cax=cax)\n"
   ]
  },
  {
   "cell_type": "markdown",
   "metadata": {},
   "source": [
    "# Converting speech to text using transfer learning\n",
    "## Set input file name and model location"
   ]
  },
  {
   "cell_type": "code",
   "execution_count": null,
   "metadata": {},
   "outputs": [],
   "source": [
    "SPEECH_FILE_NAME = 'sample.wav'\n",
    "PRETRAINED_MODEL_LOCATION = 'asset/train'"
   ]
  },
  {
   "cell_type": "markdown",
   "metadata": {},
   "source": [
    "## Define tensorflow graph"
   ]
  },
  {
   "cell_type": "code",
   "execution_count": null,
   "metadata": {},
   "outputs": [],
   "source": [
    "#tf.reset_default_graph()\n",
    "# set log level to debug\n",
    "tf.sg_verbosity(10)\n",
    "\n",
    "#\n",
    "# hyper parameters\n",
    "#\n",
    "\n",
    "batch_size = 1     # batch size\n",
    "\n",
    "#\n",
    "# inputs\n",
    "#\n",
    "\n",
    "# vocabulary size\n",
    "voca_size = data.voca_size\n",
    "\n",
    "# mfcc feature of audio\n",
    "x = tf.placeholder(dtype=tf.sg_floatx, shape=(batch_size, None, 20))\n",
    "\n",
    "# sequence length except zero-padding\n",
    "seq_len = tf.not_equal(x.sg_sum(axis=2), 0.).sg_int().sg_sum(axis=1)\n",
    "\n",
    "# encode audio feature\n",
    "logit = get_logit(x, voca_size=voca_size)\n",
    "\n",
    "# ctc decoding\n",
    "decoded, _ = tf.nn.ctc_beam_search_decoder(logit.sg_transpose(perm=[1, 0, 2]), seq_len, merge_repeated=False)\n",
    "\n",
    "# to dense tensor\n",
    "y = tf.sparse_to_dense(decoded[0].indices, decoded[0].dense_shape, decoded[0].values) + 1"
   ]
  },
  {
   "cell_type": "markdown",
   "metadata": {},
   "source": [
    "## Load audio file and extract mfcc feature"
   ]
  },
  {
   "cell_type": "code",
   "execution_count": null,
   "metadata": {},
   "outputs": [],
   "source": [
    "# load wave file\n",
    "#wav, _ = librosa.load(SPEECH_FILE_NAME, mono=True, sr=16000)\n",
    "# get mfcc feature\n",
    "mfcc = np.transpose(np.expand_dims(librosa.feature.mfcc(myrecording, 16000), axis=0), [0, 2, 1])"
   ]
  },
  {
   "cell_type": "code",
   "execution_count": null,
   "metadata": {},
   "outputs": [],
   "source": [
    "print(wav.shape)\n",
    "print(myrecording[:,0].shape)"
   ]
  },
  {
   "cell_type": "markdown",
   "metadata": {},
   "source": [
    "## Run pre-trained model to extract text"
   ]
  },
  {
   "cell_type": "code",
   "execution_count": null,
   "metadata": {},
   "outputs": [],
   "source": [
    "# run network\n",
    "with tf.Session() as sess:\n",
    "\n",
    "    # init variables\n",
    "    tf.sg_init(sess)\n",
    "\n",
    "    # restore parameters\n",
    "    saver = tf.train.Saver()\n",
    "    saver.restore(sess, tf.train.latest_checkpoint(PRETRAINED_MODEL_LOCATION))\n",
    "    # run session\n",
    "    label = sess.run(y, feed_dict={x: mfcc})\n",
    "\n",
    "    # print label\n",
    "    data.print_index(label)"
   ]
  },
  {
   "cell_type": "code",
   "execution_count": null,
   "metadata": {},
   "outputs": [],
   "source": []
  }
 ],
 "metadata": {
  "kernelspec": {
   "display_name": "Python 3",
   "language": "python",
   "name": "python3"
  },
  "language_info": {
   "codemirror_mode": {
    "name": "ipython",
    "version": 3
   },
   "file_extension": ".py",
   "mimetype": "text/x-python",
   "name": "python",
   "nbconvert_exporter": "python",
   "pygments_lexer": "ipython3",
   "version": "3.5.2"
  }
 },
 "nbformat": 4,
 "nbformat_minor": 2
}
