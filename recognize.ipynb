{
 "cells": [
  {
   "cell_type": "code",
   "execution_count": 1,
   "metadata": {},
   "outputs": [],
   "source": [
    "import sugartensor as tf\n",
    "import numpy as np\n",
    "import librosa\n",
    "from model import *\n",
    "import data"
   ]
  },
  {
   "cell_type": "code",
   "execution_count": 2,
   "metadata": {},
   "outputs": [],
   "source": [
    "SPEECH_FILE_NAME = 'sample.wav'\n",
    "PRETRAINED_MODEL_LOCATION = 'asset/train'"
   ]
  },
  {
   "cell_type": "code",
   "execution_count": 3,
   "metadata": {},
   "outputs": [],
   "source": [
    "# set log level to debug\n",
    "tf.sg_verbosity(10)\n",
    "\n",
    "#\n",
    "# hyper parameters\n",
    "#\n",
    "\n",
    "batch_size = 1     # batch size\n",
    "\n",
    "#\n",
    "# inputs\n",
    "#\n",
    "\n",
    "# vocabulary size\n",
    "voca_size = data.voca_size\n",
    "\n",
    "# mfcc feature of audio\n",
    "x = tf.placeholder(dtype=tf.sg_floatx, shape=(batch_size, None, 20))\n",
    "\n",
    "# sequence length except zero-padding\n",
    "seq_len = tf.not_equal(x.sg_sum(axis=2), 0.).sg_int().sg_sum(axis=1)\n",
    "\n",
    "# encode audio feature\n",
    "logit = get_logit(x, voca_size=voca_size)\n",
    "\n",
    "# ctc decoding\n",
    "decoded, _ = tf.nn.ctc_beam_search_decoder(logit.sg_transpose(perm=[1, 0, 2]), seq_len, merge_repeated=False)\n",
    "\n",
    "# to dense tensor\n",
    "y = tf.sparse_to_dense(decoded[0].indices, decoded[0].dense_shape, decoded[0].values) + 1\n"
   ]
  },
  {
   "cell_type": "code",
   "execution_count": 4,
   "metadata": {},
   "outputs": [],
   "source": [
    "# load wave file\n",
    "wav, _ = librosa.load(SPEECH_FILE_NAME, mono=True, sr=16000)\n",
    "# get mfcc feature\n",
    "mfcc = np.transpose(np.expand_dims(librosa.feature.mfcc(wav, 16000), axis=0), [0, 2, 1])"
   ]
  },
  {
   "cell_type": "code",
   "execution_count": 5,
   "metadata": {},
   "outputs": [
    {
     "name": "stdout",
     "output_type": "stream",
     "text": [
      "so bawtwae i ws a sout more n under grad i wet alking it o my firtgenatic lecture i e er seeng this massive groom pulld it pree hudrd fifty sudents and i xqueeze in foundise\n"
     ]
    }
   ],
   "source": [
    "# run network\n",
    "with tf.Session() as sess:\n",
    "\n",
    "    # init variables\n",
    "    tf.sg_init(sess)\n",
    "\n",
    "    # restore parameters\n",
    "    saver = tf.train.Saver()\n",
    "    saver.restore(sess, tf.train.latest_checkpoint(PRETRAINED_MODEL_LOCATION))\n",
    "    # run session\n",
    "    label = sess.run(y, feed_dict={x: mfcc})\n",
    "\n",
    "    # print label\n",
    "    data.print_index(label)"
   ]
  },
  {
   "cell_type": "code",
   "execution_count": null,
   "metadata": {},
   "outputs": [],
   "source": []
  }
 ],
 "metadata": {
  "kernelspec": {
   "display_name": "Python 3",
   "language": "python",
   "name": "python3"
  },
  "language_info": {
   "codemirror_mode": {
    "name": "ipython",
    "version": 3
   },
   "file_extension": ".py",
   "mimetype": "text/x-python",
   "name": "python",
   "nbconvert_exporter": "python",
   "pygments_lexer": "ipython3",
   "version": "3.5.2"
  }
 },
 "nbformat": 4,
 "nbformat_minor": 2
}
